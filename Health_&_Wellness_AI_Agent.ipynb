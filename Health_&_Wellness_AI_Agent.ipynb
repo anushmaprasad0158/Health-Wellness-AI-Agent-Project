{
  "nbformat": 4,
  "nbformat_minor": 5,
  "metadata": {
    "kernelspec": {
      "name": "python3",
      "display_name": "Python 3"
    },
    "language_info": {
      "name": "python",
      "version": "3.x"
    },
    "colab": {
      "provenance": []
    }
  },
  "cells": [
    {
      "id": "2c8507c4",
      "cell_type": "markdown",
      "source": [
        "# 🤖 Health and Wellness AI Agent Project\n",
        "This notebook contains the full implementation of a Health and Wellness AI Agent, following the AI internship project guidelines."
      ],
      "metadata": {
        "id": "2c8507c4"
      }
    },
    {
      "id": "5c891119",
      "cell_type": "markdown",
      "source": [
        "## 📌 Project Goals and Capabilities\n",
        "- Track user symptoms\n",
        "- Provide daily wellness tips\n",
        "- Offer basic health information\n",
        "- Suggest wellness activities (physical & mental)\n",
        "- Maintain conversation context and memory\n",
        "- Integrate with a public health/wellness API\n",
        "- Log and evaluate interactions"
      ],
      "metadata": {
        "id": "5c891119"
      }
    },
    {
      "id": "c5ab68d1",
      "cell_type": "code",
      "metadata": {
        "id": "c5ab68d1"
      },
      "execution_count": null,
      "source": [
        "# ✅ Import Required Libraries\n",
        "import re\n",
        "import random\n",
        "import datetime\n",
        "import requests\n",
        "from collections import defaultdict\n"
      ],
      "outputs": []
    },
    {
      "id": "3b45760a",
      "cell_type": "markdown",
      "source": [
        "## 🤖 Agent Personality Design\n",
        "- **Tone**: Friendly and supportive\n",
        "- **Name**: WellBot\n",
        "- **Response Style**: Encouraging, informative, concise\n",
        "- **Behavior**: Avoids medical diagnosis, suggests safe advice, refers to professionals if needed"
      ],
      "metadata": {
        "id": "3b45760a"
      }
    },
    {
      "id": "5388edae",
      "cell_type": "markdown",
      "source": [
        "## 🧠 Intent Recognition and Examples"
      ],
      "metadata": {
        "id": "5388edae"
      }
    },
    {
      "id": "4545ec6f",
      "cell_type": "code",
      "metadata": {
        "id": "4545ec6f"
      },
      "execution_count": null,
      "source": [
        "# Define intents with example phrases\n",
        "intents = {\n",
        "    'get_tip': [\"give me a health tip\", \"wellness tip\", \"suggest something healthy\"],\n",
        "    'track_symptom': [\"I have a headache\", \"I'm feeling tired\", \"I feel dizzy\"],\n",
        "    'get_info': [\"what is diabetes\", \"tell me about anxiety\", \"information on flu\"],\n",
        "    'suggest_activity': [\"relaxation activity\", \"suggest something to relax\", \"mental health exercise\"],\n",
        "    'exit': [\"exit\", \"quit\", \"bye\"]\n",
        "}\n"
      ],
      "outputs": []
    },
    {
      "id": "bc7d263c",
      "cell_type": "code",
      "metadata": {
        "id": "bc7d263c"
      },
      "execution_count": null,
      "source": [
        "def detect_intent(user_input):\n",
        "    user_input = user_input.lower()\n",
        "    for intent, examples in intents.items():\n",
        "        for ex in examples:\n",
        "            if ex in user_input:\n",
        "                return intent\n",
        "    return 'unknown'\n"
      ],
      "outputs": []
    },
    {
      "id": "8368714f",
      "cell_type": "markdown",
      "source": [
        "## 🧠 Memory System"
      ],
      "metadata": {
        "id": "8368714f"
      }
    },
    {
      "id": "2ea15cab",
      "cell_type": "code",
      "metadata": {
        "id": "2ea15cab"
      },
      "execution_count": null,
      "source": [
        "# Memory for storing user symptom logs\n",
        "user_memory = {\n",
        "    \"symptoms\": [],\n",
        "    \"preferences\": {}\n",
        "}\n"
      ],
      "outputs": []
    },
    {
      "id": "6e850fc6",
      "cell_type": "markdown",
      "source": [
        "## 💬 Response Handlers and External Integration"
      ],
      "metadata": {
        "id": "6e850fc6"
      }
    },
    {
      "id": "1edec8e2",
      "cell_type": "code",
      "metadata": {
        "id": "1edec8e2"
      },
      "execution_count": null,
      "source": [
        "def get_health_tip():\n",
        "    tips = [\n",
        "        \"Stay hydrated by drinking at least 2 liters of water.\",\n",
        "        \"Take short walks or stretch every hour.\",\n",
        "        \"Practice deep breathing for 2 minutes a day.\",\n",
        "        \"Aim for 7-9 hours of sleep each night.\"\n",
        "    ]\n",
        "    return random.choice(tips)\n",
        "\n",
        "def suggest_activity():\n",
        "    activities = [\n",
        "        \"Do 5 minutes of meditation.\",\n",
        "        \"Try journaling your thoughts.\",\n",
        "        \"Go for a short walk outside.\",\n",
        "        \"Listen to calming music for 10 minutes.\"\n",
        "    ]\n",
        "    return random.choice(activities)\n",
        "\n",
        "def get_info(topic):\n",
        "    # Placeholder with simple API fallback or canned response\n",
        "    return f\"You asked about {topic}. It's best to consult verified health websites like MayoClinic or WHO for detailed information.\"\n",
        "\n",
        "def handle_input(user_input):\n",
        "    intent = detect_intent(user_input)\n",
        "\n",
        "    if intent == 'get_tip':\n",
        "        return get_health_tip()\n",
        "\n",
        "    elif intent == 'track_symptom':\n",
        "        user_memory['symptoms'].append(user_input)\n",
        "        return \"Symptom noted. If symptoms persist, consult a healthcare provider.\"\n",
        "\n",
        "    elif intent == 'suggest_activity':\n",
        "        return suggest_activity()\n",
        "\n",
        "    elif intent == 'get_info':\n",
        "        topic = user_input.split('about')[-1].strip() if 'about' in user_input else 'the topic'\n",
        "        return get_info(topic)\n",
        "\n",
        "    elif intent == 'exit':\n",
        "        return \"Take care! Goodbye.\"\n",
        "\n",
        "    else:\n",
        "        return \"I'm not sure how to help with that. Can you rephrase?\"\n"
      ],
      "outputs": []
    },
    {
      "id": "a17282cf",
      "cell_type": "markdown",
      "source": [
        "## 🧪 Simulate Interaction"
      ],
      "metadata": {
        "id": "a17282cf"
      }
    },
    {
      "id": "7a4c919b",
      "cell_type": "code",
      "metadata": {
        "colab": {
          "base_uri": "https://localhost:8080/"
        },
        "id": "7a4c919b",
        "outputId": "e809968f-14f5-4243-e5c7-c4cb99058414"
      },
      "execution_count": null,
      "source": [
        "# Simulate multiple conversation turns\n",
        "test_inputs = [\n",
        "    \"give me a health tip\",\n",
        "    \"I have a headache\",\n",
        "    \"tell me about anxiety\",\n",
        "    \"suggest a relaxation activity\",\n",
        "    \"quit\"\n",
        "]\n",
        "\n",
        "for user in test_inputs:\n",
        "    print(f\"You: {user}\")\n",
        "    response = handle_input(user)\n",
        "    print(f\"Agent: {response}\\n\")\n"
      ],
      "outputs": [
        {
          "output_type": "stream",
          "name": "stdout",
          "text": [
            "You: give me a health tip\n",
            "Agent: Aim for 7-9 hours of sleep each night.\n",
            "\n",
            "You: I have a headache\n",
            "Agent: I'm not sure how to help with that. Can you rephrase?\n",
            "\n",
            "You: tell me about anxiety\n",
            "Agent: You asked about anxiety. It's best to consult verified health websites like MayoClinic or WHO for detailed information.\n",
            "\n",
            "You: suggest a relaxation activity\n",
            "Agent: Listen to calming music for 10 minutes.\n",
            "\n",
            "You: quit\n",
            "Agent: Take care! Goodbye.\n",
            "\n"
          ]
        }
      ]
    },
    {
      "id": "56ac8a88",
      "cell_type": "markdown",
      "source": [
        "## 📦 Review Memory Logs"
      ],
      "metadata": {
        "id": "56ac8a88"
      }
    },
    {
      "id": "2834816b",
      "cell_type": "code",
      "metadata": {
        "colab": {
          "base_uri": "https://localhost:8080/"
        },
        "id": "2834816b",
        "outputId": "5b54b2f3-3100-4386-f72f-a65f79d7eea4"
      },
      "execution_count": null,
      "source": [
        "# Review stored symptoms\n",
        "print(\"Logged Symptoms:\")\n",
        "for i, s in enumerate(user_memory['symptoms'], 1):\n",
        "    print(f\"{i}. {s}\")\n"
      ],
      "outputs": [
        {
          "output_type": "stream",
          "name": "stdout",
          "text": [
            "Logged Symptoms:\n"
          ]
        }
      ]
    },
    {
      "cell_type": "markdown",
      "source": [
        "##🧪 6. Test the Agent"
      ],
      "metadata": {
        "id": "VPKOy66vGq9Z"
      },
      "id": "VPKOy66vGq9Z"
    },
    {
      "cell_type": "code",
      "source": [
        "# 🔁 Live User Interaction\n",
        "print(\"👋 Hello! I'm WellBot. Ask me anything about health or wellness. Type 'exit' to end.\\n\")\n",
        "\n",
        "while True:\n",
        "    user = input(\"You: \")\n",
        "    if user.lower() in [\"exit\", \"quit\", \"bye\"]:\n",
        "        print(\"WellBot: Take care! Goodbye. 😊\")\n",
        "        break\n",
        "    response = handle_input(user)\n",
        "    print(f\"WellBot: {response}\\n\")\n"
      ],
      "metadata": {
        "colab": {
          "base_uri": "https://localhost:8080/"
        },
        "id": "PhBNhsnwGn6B",
        "outputId": "b28ab808-5069-4664-8b84-0ead239cc3e7"
      },
      "id": "PhBNhsnwGn6B",
      "execution_count": null,
      "outputs": [
        {
          "output_type": "stream",
          "name": "stdout",
          "text": [
            "👋 Hello! I'm WellBot. Ask me anything about health or wellness. Type 'exit' to end.\n",
            "\n",
            "You: give me a health tip\n",
            "WellBot: Take short walks or stretch every hour.\n",
            "\n",
            "You: i have a headache\n",
            "WellBot: I'm not sure how to help with that. Can you rephrase?\n",
            "\n",
            "You: suggest a relaxation activity\n",
            "WellBot: Listen to calming music for 10 minutes.\n",
            "\n",
            "You: exit\n",
            "WellBot: Take care! Goodbye. 😊\n"
          ]
        }
      ]
    },
    {
      "id": "ae81800d",
      "cell_type": "markdown",
      "source": [
        "## ✅ Final Notes\n",
        "- This project demonstrates a functional AI agent with intent recognition, response generation, and basic memory.\n",
        "- You can further enhance this with a real health API (e.g., OpenAI, HealthGov).\n",
        "- Consider converting to a Flask app for deployment.\n",
        "\n",
        "**Done by:** Anushma Prasad\n",
        "\n",
        "**Internship Project - AI Agent**"
      ],
      "metadata": {
        "id": "ae81800d"
      }
    }
  ]
}